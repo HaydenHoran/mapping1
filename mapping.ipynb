{
 "cells": [
  {
   "cell_type": "code",
   "execution_count": 135,
   "metadata": {},
   "outputs": [],
   "source": [
    "import pandas as pd\n",
    "import numpy as np"
   ]
  },
  {
   "cell_type": "code",
   "execution_count": 136,
   "metadata": {},
   "outputs": [],
   "source": [
    "h= pd.DataFrame([[1,2,3],[4,5,6],[7,8,9]], columns=['a','b','c'], index= ['x','y','z'])"
   ]
  },
  {
   "cell_type": "code",
   "execution_count": 137,
   "metadata": {},
   "outputs": [
    {
     "data": {
      "text/html": [
       "<div>\n",
       "<style scoped>\n",
       "    .dataframe tbody tr th:only-of-type {\n",
       "        vertical-align: middle;\n",
       "    }\n",
       "\n",
       "    .dataframe tbody tr th {\n",
       "        vertical-align: top;\n",
       "    }\n",
       "\n",
       "    .dataframe thead th {\n",
       "        text-align: right;\n",
       "    }\n",
       "</style>\n",
       "<table border=\"1\" class=\"dataframe\">\n",
       "  <thead>\n",
       "    <tr style=\"text-align: right;\">\n",
       "      <th></th>\n",
       "      <th>a</th>\n",
       "      <th>b</th>\n",
       "      <th>c</th>\n",
       "    </tr>\n",
       "  </thead>\n",
       "  <tbody>\n",
       "    <tr>\n",
       "      <th>x</th>\n",
       "      <td>1</td>\n",
       "      <td>2</td>\n",
       "      <td>3</td>\n",
       "    </tr>\n",
       "    <tr>\n",
       "      <th>y</th>\n",
       "      <td>4</td>\n",
       "      <td>5</td>\n",
       "      <td>6</td>\n",
       "    </tr>\n",
       "    <tr>\n",
       "      <th>z</th>\n",
       "      <td>7</td>\n",
       "      <td>8</td>\n",
       "      <td>9</td>\n",
       "    </tr>\n",
       "  </tbody>\n",
       "</table>\n",
       "</div>"
      ],
      "text/plain": [
       "   a  b  c\n",
       "x  1  2  3\n",
       "y  4  5  6\n",
       "z  7  8  9"
      ]
     },
     "execution_count": 137,
     "metadata": {},
     "output_type": "execute_result"
    }
   ],
   "source": [
    "h.head()"
   ]
  },
  {
   "cell_type": "code",
   "execution_count": 138,
   "metadata": {},
   "outputs": [],
   "source": [
    "hh= h.iloc[0:2,1]"
   ]
  },
  {
   "cell_type": "code",
   "execution_count": 139,
   "metadata": {},
   "outputs": [
    {
     "data": {
      "text/plain": [
       "'b'"
      ]
     },
     "execution_count": 139,
     "metadata": {},
     "output_type": "execute_result"
    }
   ],
   "source": [
    "hh.name"
   ]
  },
  {
   "cell_type": "code",
   "execution_count": 140,
   "metadata": {},
   "outputs": [
    {
     "data": {
      "text/plain": [
       "pandas.core.series.Series"
      ]
     },
     "execution_count": 140,
     "metadata": {},
     "output_type": "execute_result"
    }
   ],
   "source": [
    "type(hh)"
   ]
  },
  {
   "cell_type": "markdown",
   "metadata": {},
   "source": [
    "### Layout 1"
   ]
  },
  {
   "cell_type": "code",
   "execution_count": 141,
   "metadata": {},
   "outputs": [],
   "source": [
    "df= pd.read_excel('location.xlsx', sheet_name= 'Layout #1')"
   ]
  },
  {
   "cell_type": "code",
   "execution_count": 142,
   "metadata": {
    "scrolled": true
   },
   "outputs": [],
   "source": [
    "locA=df.iloc[0:60]\n",
    "locB= df.iloc[62:123]\n",
    "locC=df.iloc[125:186]\n",
    "locD= df.iloc[188:]"
   ]
  },
  {
   "cell_type": "code",
   "execution_count": 158,
   "metadata": {},
   "outputs": [
    {
     "data": {
      "text/html": [
       "<div>\n",
       "<style scoped>\n",
       "    .dataframe tbody tr th:only-of-type {\n",
       "        vertical-align: middle;\n",
       "    }\n",
       "\n",
       "    .dataframe tbody tr th {\n",
       "        vertical-align: top;\n",
       "    }\n",
       "\n",
       "    .dataframe thead th {\n",
       "        text-align: right;\n",
       "    }\n",
       "</style>\n",
       "<table border=\"1\" class=\"dataframe\">\n",
       "  <thead>\n",
       "    <tr style=\"text-align: right;\">\n",
       "      <th></th>\n",
       "      <th>Unnamed: 0</th>\n",
       "      <th>A-13-S61-P1</th>\n",
       "      <th>Unnamed: 2</th>\n",
       "      <th>A-13-S51-P1</th>\n",
       "      <th>Unnamed: 4</th>\n",
       "      <th>A-13-S41-P1</th>\n",
       "      <th>Unnamed: 6</th>\n",
       "      <th>A-13-S31-P1</th>\n",
       "      <th>Unnamed: 8</th>\n",
       "      <th>A-13-S21-P1</th>\n",
       "      <th>...</th>\n",
       "      <th>Unnamed: 71</th>\n",
       "      <th>A-23-S21-P1</th>\n",
       "      <th>Unnamed: 73</th>\n",
       "      <th>A-23-S31-P1</th>\n",
       "      <th>Unnamed: 75</th>\n",
       "      <th>A-23-S41-P1</th>\n",
       "      <th>Unnamed: 77</th>\n",
       "      <th>A-23-S51-P1</th>\n",
       "      <th>Unnamed: 79</th>\n",
       "      <th>A-23-S61-P1</th>\n",
       "    </tr>\n",
       "  </thead>\n",
       "  <tbody>\n",
       "    <tr>\n",
       "      <th>1</th>\n",
       "      <td>NaN</td>\n",
       "      <td>A-13-S61-P2</td>\n",
       "      <td>NaN</td>\n",
       "      <td>A-13-S51-P2</td>\n",
       "      <td>NaN</td>\n",
       "      <td>A-13-S41-P2</td>\n",
       "      <td>NaN</td>\n",
       "      <td>A-13-S31-P2</td>\n",
       "      <td>NaN</td>\n",
       "      <td>A-13-S21-P2</td>\n",
       "      <td>...</td>\n",
       "      <td>NaN</td>\n",
       "      <td>A-23-S21-P2</td>\n",
       "      <td>NaN</td>\n",
       "      <td>A-23-S31-P2</td>\n",
       "      <td>NaN</td>\n",
       "      <td>A-23-S41-P2</td>\n",
       "      <td>NaN</td>\n",
       "      <td>A-23-S51-P2</td>\n",
       "      <td>NaN</td>\n",
       "      <td>A-23-S61-P2</td>\n",
       "    </tr>\n",
       "    <tr>\n",
       "      <th>2</th>\n",
       "      <td>NaN</td>\n",
       "      <td>A-13-S61-P3</td>\n",
       "      <td>NaN</td>\n",
       "      <td>A-13-S51-P3</td>\n",
       "      <td>NaN</td>\n",
       "      <td>A-13-S41-P3</td>\n",
       "      <td>NaN</td>\n",
       "      <td>A-13-S31-P3</td>\n",
       "      <td>NaN</td>\n",
       "      <td>A-13-S21-P3</td>\n",
       "      <td>...</td>\n",
       "      <td>NaN</td>\n",
       "      <td>A-23-S21-P3</td>\n",
       "      <td>NaN</td>\n",
       "      <td>A-23-S31-P3</td>\n",
       "      <td>NaN</td>\n",
       "      <td>A-23-S41-P3</td>\n",
       "      <td>NaN</td>\n",
       "      <td>A-23-S51-P3</td>\n",
       "      <td>NaN</td>\n",
       "      <td>A-23-S61-P3</td>\n",
       "    </tr>\n",
       "    <tr>\n",
       "      <th>3</th>\n",
       "      <td>NaN</td>\n",
       "      <td>A-13-S61-P4</td>\n",
       "      <td>NaN</td>\n",
       "      <td>A-13-S51-P4</td>\n",
       "      <td>NaN</td>\n",
       "      <td>A-13-S41-P4</td>\n",
       "      <td>NaN</td>\n",
       "      <td>A-13-S31-P4</td>\n",
       "      <td>NaN</td>\n",
       "      <td>A-13-S21-P4</td>\n",
       "      <td>...</td>\n",
       "      <td>NaN</td>\n",
       "      <td>A-23-S21-P4</td>\n",
       "      <td>NaN</td>\n",
       "      <td>A-23-S31-P4</td>\n",
       "      <td>NaN</td>\n",
       "      <td>A-23-S41-P4</td>\n",
       "      <td>NaN</td>\n",
       "      <td>A-23-S51-P4</td>\n",
       "      <td>NaN</td>\n",
       "      <td>A-23-S61-P4</td>\n",
       "    </tr>\n",
       "    <tr>\n",
       "      <th>4</th>\n",
       "      <td>NaN</td>\n",
       "      <td>A-13-S61-P5</td>\n",
       "      <td>NaN</td>\n",
       "      <td>A-13-S51-P5</td>\n",
       "      <td>NaN</td>\n",
       "      <td>A-13-S41-P5</td>\n",
       "      <td>NaN</td>\n",
       "      <td>A-13-S31-P5</td>\n",
       "      <td>NaN</td>\n",
       "      <td>A-13-S21-P5</td>\n",
       "      <td>...</td>\n",
       "      <td>NaN</td>\n",
       "      <td>A-23-S21-P5</td>\n",
       "      <td>NaN</td>\n",
       "      <td>A-23-S31-P5</td>\n",
       "      <td>NaN</td>\n",
       "      <td>A-23-S41-P5</td>\n",
       "      <td>NaN</td>\n",
       "      <td>A-23-S51-P5</td>\n",
       "      <td>NaN</td>\n",
       "      <td>A-23-S61-P5</td>\n",
       "    </tr>\n",
       "    <tr>\n",
       "      <th>5</th>\n",
       "      <td>NaN</td>\n",
       "      <td>A-13-S61-P6</td>\n",
       "      <td>NaN</td>\n",
       "      <td>A-13-S51-P6</td>\n",
       "      <td>NaN</td>\n",
       "      <td>A-13-S41-P6</td>\n",
       "      <td>NaN</td>\n",
       "      <td>A-13-S31-P6</td>\n",
       "      <td>NaN</td>\n",
       "      <td>A-13-S21-P6</td>\n",
       "      <td>...</td>\n",
       "      <td>NaN</td>\n",
       "      <td>A-23-S21-P6</td>\n",
       "      <td>NaN</td>\n",
       "      <td>A-23-S31-P6</td>\n",
       "      <td>NaN</td>\n",
       "      <td>A-23-S41-P6</td>\n",
       "      <td>NaN</td>\n",
       "      <td>A-23-S51-P6</td>\n",
       "      <td>NaN</td>\n",
       "      <td>A-23-S61-P6</td>\n",
       "    </tr>\n",
       "  </tbody>\n",
       "</table>\n",
       "<p>5 rows × 81 columns</p>\n",
       "</div>"
      ],
      "text/plain": [
       "  Unnamed: 0  A-13-S61-P1 Unnamed: 2  A-13-S51-P1 Unnamed: 4  A-13-S41-P1  \\\n",
       "1        NaN  A-13-S61-P2        NaN  A-13-S51-P2        NaN  A-13-S41-P2   \n",
       "2        NaN  A-13-S61-P3        NaN  A-13-S51-P3        NaN  A-13-S41-P3   \n",
       "3        NaN  A-13-S61-P4        NaN  A-13-S51-P4        NaN  A-13-S41-P4   \n",
       "4        NaN  A-13-S61-P5        NaN  A-13-S51-P5        NaN  A-13-S41-P5   \n",
       "5        NaN  A-13-S61-P6        NaN  A-13-S51-P6        NaN  A-13-S41-P6   \n",
       "\n",
       "  Unnamed: 6  A-13-S31-P1 Unnamed: 8  A-13-S21-P1     ...      Unnamed: 71  \\\n",
       "1        NaN  A-13-S31-P2        NaN  A-13-S21-P2     ...              NaN   \n",
       "2        NaN  A-13-S31-P3        NaN  A-13-S21-P3     ...              NaN   \n",
       "3        NaN  A-13-S31-P4        NaN  A-13-S21-P4     ...              NaN   \n",
       "4        NaN  A-13-S31-P5        NaN  A-13-S21-P5     ...              NaN   \n",
       "5        NaN  A-13-S31-P6        NaN  A-13-S21-P6     ...              NaN   \n",
       "\n",
       "   A-23-S21-P1 Unnamed: 73  A-23-S31-P1 Unnamed: 75  A-23-S41-P1 Unnamed: 77  \\\n",
       "1  A-23-S21-P2         NaN  A-23-S31-P2         NaN  A-23-S41-P2         NaN   \n",
       "2  A-23-S21-P3         NaN  A-23-S31-P3         NaN  A-23-S41-P3         NaN   \n",
       "3  A-23-S21-P4         NaN  A-23-S31-P4         NaN  A-23-S41-P4         NaN   \n",
       "4  A-23-S21-P5         NaN  A-23-S31-P5         NaN  A-23-S41-P5         NaN   \n",
       "5  A-23-S21-P6         NaN  A-23-S31-P6         NaN  A-23-S41-P6         NaN   \n",
       "\n",
       "   A-23-S51-P1 Unnamed: 79  A-23-S61-P1  \n",
       "1  A-23-S51-P2         NaN  A-23-S61-P2  \n",
       "2  A-23-S51-P3         NaN  A-23-S61-P3  \n",
       "3  A-23-S51-P4         NaN  A-23-S61-P4  \n",
       "4  A-23-S51-P5         NaN  A-23-S61-P5  \n",
       "5  A-23-S51-P6         NaN  A-23-S61-P6  \n",
       "\n",
       "[5 rows x 81 columns]"
      ]
     },
     "execution_count": 158,
     "metadata": {},
     "output_type": "execute_result"
    }
   ],
   "source": [
    "locA.head()"
   ]
  },
  {
   "cell_type": "code",
   "execution_count": 157,
   "metadata": {},
   "outputs": [
    {
     "data": {
      "text/plain": [
       "Index(['Unnamed: 0', 'A-13-S61-P1', 'Unnamed: 2', 'A-13-S51-P1', 'Unnamed: 4',\n",
       "       'A-13-S41-P1', 'Unnamed: 6', 'A-13-S31-P1', 'Unnamed: 8', 'A-13-S21-P1',\n",
       "       'Unnamed: 10', 'A-13-S11-P1', 'Unnamed: 12', 'A-12-S71-P1',\n",
       "       'Unnamed: 14', 'A-12-S61-P1', 'Unnamed: 16', 'A-12-S51-P1',\n",
       "       'Unnamed: 18', 'A-12-S41-P1', 'Unnamed: 20', 'A-12-S31-P1',\n",
       "       'Unnamed: 22', 'A-12-S21-P1', 'Unnamed: 24', 'A-12-S11-P1',\n",
       "       'Unnamed: 26', 'A-11-S71-P1', 'Unnamed: 28', 'A-11-S61-P1',\n",
       "       'Unnamed: 30', 'A-11-S51-P1', 'Unnamed: 32', 'A-11-S41-P1',\n",
       "       'Unnamed: 34', 'A-11-S31-P1', 'Unnamed: 36', 'A-11-S21-P1',\n",
       "       'Unnamed: 38', 'A-11-S11-P1', 'Unnamed: 40', 'Unnamed: 41',\n",
       "       'A-21-S11-P1', 'Unnamed: 43', 'A-21-S21-P1', 'Unnamed: 45',\n",
       "       'A-21-S31-P1', 'Unnamed: 47', 'A-21-S41-P1', 'Unnamed: 49',\n",
       "       'A-21-S51-P1', 'Unnamed: 51', 'A-21-S61-P1', 'Unnamed: 53',\n",
       "       'A-21-S71-P1', 'Unnamed: 55', 'A-22-S11-P1', 'Unnamed: 57',\n",
       "       'A-22-S21-P1', 'Unnamed: 59', 'A-22-S31-P1', 'Unnamed: 61',\n",
       "       'A-22-S41-P1', 'Unnamed: 63', 'A-22-S51-P1', 'Unnamed: 65',\n",
       "       'A-22-S61-P1', 'Unnamed: 67', 'A-22-S71-P1', 'Unnamed: 69',\n",
       "       'A-23-S11-P1', 'Unnamed: 71', 'A-23-S21-P1', 'Unnamed: 73',\n",
       "       'A-23-S31-P1', 'Unnamed: 75', 'A-23-S41-P1', 'Unnamed: 77',\n",
       "       'A-23-S51-P1', 'Unnamed: 79', 'A-23-S61-P1'],\n",
       "      dtype='object')"
      ]
     },
     "execution_count": 157,
     "metadata": {},
     "output_type": "execute_result"
    }
   ],
   "source": [
    "df.columns"
   ]
  },
  {
   "cell_type": "code",
   "execution_count": 144,
   "metadata": {},
   "outputs": [],
   "source": [
    "label=[]\n",
    "n=0\n",
    "for i in df.columns:\n",
    "    if '-' in i:\n",
    "        x= int(i[6])\n",
    "        y= i[2:4]+'-S'+str(x)\n",
    "        label.append(str(y)) \n",
    "    else:\n",
    "        label.append(str(n))\n",
    "    n+=1\n",
    "\n",
    "def format(x,s):\n",
    "    y=x\n",
    "    new=[]\n",
    "    lab=[]\n",
    "    if s=='A':\n",
    "        for i in y.columns:\n",
    "            if '-' in i:\n",
    "                new.append(i)\n",
    "            else:\n",
    "                new.append('blank')\n",
    "        y.loc[-1]= new\n",
    "        y.index= y.index + 1\n",
    "        y= y.sort_index()\n",
    "    \n",
    "    for j in label:\n",
    "        if '-' in j:\n",
    "            lab.append(s+'-'+j)\n",
    "        else:\n",
    "            lab.append('goPingo'+j)\n",
    "    y.columns=lab\n",
    "    z= y.fillna('blank')\n",
    "    return z"
   ]
  },
  {
   "cell_type": "code",
   "execution_count": 145,
   "metadata": {},
   "outputs": [
    {
     "name": "stderr",
     "output_type": "stream",
     "text": [
      "C:\\Users\\12mik\\Anaconda3\\lib\\site-packages\\ipykernel_launcher.py:22: SettingWithCopyWarning: \n",
      "A value is trying to be set on a copy of a slice from a DataFrame\n",
      "\n",
      "See the caveats in the documentation: http://pandas.pydata.org/pandas-docs/stable/indexing.html#indexing-view-versus-copy\n"
     ]
    }
   ],
   "source": [
    "dffa=format(locA,'A')\n",
    "dffb=format(locB, 'B')\n",
    "dffc= format(locC, 'C')\n",
    "dffd= format(locD, 'D')"
   ]
  },
  {
   "cell_type": "code",
   "execution_count": 146,
   "metadata": {},
   "outputs": [],
   "source": [
    "def construct(data):\n",
    "    q= []\n",
    "    for i in data.columns:\n",
    "        q.append(data[i])\n",
    "    df= pd.DataFrame(q).T\n",
    "    return df"
   ]
  },
  {
   "cell_type": "code",
   "execution_count": 147,
   "metadata": {},
   "outputs": [],
   "source": [
    "dfa= construct(dffa)\n",
    "dfb= construct(dffb)\n",
    "dfc= construct(dffc)\n",
    "dfd= construct(dffd)"
   ]
  },
  {
   "cell_type": "code",
   "execution_count": 156,
   "metadata": {},
   "outputs": [
    {
     "data": {
      "text/html": [
       "<div>\n",
       "<style scoped>\n",
       "    .dataframe tbody tr th:only-of-type {\n",
       "        vertical-align: middle;\n",
       "    }\n",
       "\n",
       "    .dataframe tbody tr th {\n",
       "        vertical-align: top;\n",
       "    }\n",
       "\n",
       "    .dataframe thead th {\n",
       "        text-align: right;\n",
       "    }\n",
       "</style>\n",
       "<table border=\"1\" class=\"dataframe\">\n",
       "  <thead>\n",
       "    <tr style=\"text-align: right;\">\n",
       "      <th></th>\n",
       "      <th>goPingo0</th>\n",
       "      <th>A-13-S6</th>\n",
       "      <th>goPingo2</th>\n",
       "      <th>A-13-S5</th>\n",
       "      <th>goPingo4</th>\n",
       "      <th>A-13-S4</th>\n",
       "      <th>goPingo6</th>\n",
       "      <th>A-13-S3</th>\n",
       "      <th>goPingo8</th>\n",
       "      <th>A-13-S2</th>\n",
       "      <th>...</th>\n",
       "      <th>goPingo71</th>\n",
       "      <th>A-23-S2</th>\n",
       "      <th>goPingo73</th>\n",
       "      <th>A-23-S3</th>\n",
       "      <th>goPingo75</th>\n",
       "      <th>A-23-S4</th>\n",
       "      <th>goPingo77</th>\n",
       "      <th>A-23-S5</th>\n",
       "      <th>goPingo79</th>\n",
       "      <th>A-23-S6</th>\n",
       "    </tr>\n",
       "  </thead>\n",
       "  <tbody>\n",
       "    <tr>\n",
       "      <th>0</th>\n",
       "      <td>blank</td>\n",
       "      <td>A-13-S61-P1</td>\n",
       "      <td>blank</td>\n",
       "      <td>A-13-S51-P1</td>\n",
       "      <td>blank</td>\n",
       "      <td>A-13-S41-P1</td>\n",
       "      <td>blank</td>\n",
       "      <td>A-13-S31-P1</td>\n",
       "      <td>blank</td>\n",
       "      <td>A-13-S21-P1</td>\n",
       "      <td>...</td>\n",
       "      <td>blank</td>\n",
       "      <td>A-23-S21-P1</td>\n",
       "      <td>blank</td>\n",
       "      <td>A-23-S31-P1</td>\n",
       "      <td>blank</td>\n",
       "      <td>A-23-S41-P1</td>\n",
       "      <td>blank</td>\n",
       "      <td>A-23-S51-P1</td>\n",
       "      <td>blank</td>\n",
       "      <td>A-23-S61-P1</td>\n",
       "    </tr>\n",
       "    <tr>\n",
       "      <th>1</th>\n",
       "      <td>blank</td>\n",
       "      <td>A-13-S61-P2</td>\n",
       "      <td>blank</td>\n",
       "      <td>A-13-S51-P2</td>\n",
       "      <td>blank</td>\n",
       "      <td>A-13-S41-P2</td>\n",
       "      <td>blank</td>\n",
       "      <td>A-13-S31-P2</td>\n",
       "      <td>blank</td>\n",
       "      <td>A-13-S21-P2</td>\n",
       "      <td>...</td>\n",
       "      <td>blank</td>\n",
       "      <td>A-23-S21-P2</td>\n",
       "      <td>blank</td>\n",
       "      <td>A-23-S31-P2</td>\n",
       "      <td>blank</td>\n",
       "      <td>A-23-S41-P2</td>\n",
       "      <td>blank</td>\n",
       "      <td>A-23-S51-P2</td>\n",
       "      <td>blank</td>\n",
       "      <td>A-23-S61-P2</td>\n",
       "    </tr>\n",
       "    <tr>\n",
       "      <th>2</th>\n",
       "      <td>blank</td>\n",
       "      <td>A-13-S61-P3</td>\n",
       "      <td>blank</td>\n",
       "      <td>A-13-S51-P3</td>\n",
       "      <td>blank</td>\n",
       "      <td>A-13-S41-P3</td>\n",
       "      <td>blank</td>\n",
       "      <td>A-13-S31-P3</td>\n",
       "      <td>blank</td>\n",
       "      <td>A-13-S21-P3</td>\n",
       "      <td>...</td>\n",
       "      <td>blank</td>\n",
       "      <td>A-23-S21-P3</td>\n",
       "      <td>blank</td>\n",
       "      <td>A-23-S31-P3</td>\n",
       "      <td>blank</td>\n",
       "      <td>A-23-S41-P3</td>\n",
       "      <td>blank</td>\n",
       "      <td>A-23-S51-P3</td>\n",
       "      <td>blank</td>\n",
       "      <td>A-23-S61-P3</td>\n",
       "    </tr>\n",
       "    <tr>\n",
       "      <th>3</th>\n",
       "      <td>blank</td>\n",
       "      <td>A-13-S61-P4</td>\n",
       "      <td>blank</td>\n",
       "      <td>A-13-S51-P4</td>\n",
       "      <td>blank</td>\n",
       "      <td>A-13-S41-P4</td>\n",
       "      <td>blank</td>\n",
       "      <td>A-13-S31-P4</td>\n",
       "      <td>blank</td>\n",
       "      <td>A-13-S21-P4</td>\n",
       "      <td>...</td>\n",
       "      <td>blank</td>\n",
       "      <td>A-23-S21-P4</td>\n",
       "      <td>blank</td>\n",
       "      <td>A-23-S31-P4</td>\n",
       "      <td>blank</td>\n",
       "      <td>A-23-S41-P4</td>\n",
       "      <td>blank</td>\n",
       "      <td>A-23-S51-P4</td>\n",
       "      <td>blank</td>\n",
       "      <td>A-23-S61-P4</td>\n",
       "    </tr>\n",
       "    <tr>\n",
       "      <th>4</th>\n",
       "      <td>blank</td>\n",
       "      <td>A-13-S61-P5</td>\n",
       "      <td>blank</td>\n",
       "      <td>A-13-S51-P5</td>\n",
       "      <td>blank</td>\n",
       "      <td>A-13-S41-P5</td>\n",
       "      <td>blank</td>\n",
       "      <td>A-13-S31-P5</td>\n",
       "      <td>blank</td>\n",
       "      <td>A-13-S21-P5</td>\n",
       "      <td>...</td>\n",
       "      <td>blank</td>\n",
       "      <td>A-23-S21-P5</td>\n",
       "      <td>blank</td>\n",
       "      <td>A-23-S31-P5</td>\n",
       "      <td>blank</td>\n",
       "      <td>A-23-S41-P5</td>\n",
       "      <td>blank</td>\n",
       "      <td>A-23-S51-P5</td>\n",
       "      <td>blank</td>\n",
       "      <td>A-23-S61-P5</td>\n",
       "    </tr>\n",
       "  </tbody>\n",
       "</table>\n",
       "<p>5 rows × 81 columns</p>\n",
       "</div>"
      ],
      "text/plain": [
       "  goPingo0      A-13-S6 goPingo2      A-13-S5 goPingo4      A-13-S4 goPingo6  \\\n",
       "0    blank  A-13-S61-P1    blank  A-13-S51-P1    blank  A-13-S41-P1    blank   \n",
       "1    blank  A-13-S61-P2    blank  A-13-S51-P2    blank  A-13-S41-P2    blank   \n",
       "2    blank  A-13-S61-P3    blank  A-13-S51-P3    blank  A-13-S41-P3    blank   \n",
       "3    blank  A-13-S61-P4    blank  A-13-S51-P4    blank  A-13-S41-P4    blank   \n",
       "4    blank  A-13-S61-P5    blank  A-13-S51-P5    blank  A-13-S41-P5    blank   \n",
       "\n",
       "       A-13-S3 goPingo8      A-13-S2     ...      goPingo71      A-23-S2  \\\n",
       "0  A-13-S31-P1    blank  A-13-S21-P1     ...          blank  A-23-S21-P1   \n",
       "1  A-13-S31-P2    blank  A-13-S21-P2     ...          blank  A-23-S21-P2   \n",
       "2  A-13-S31-P3    blank  A-13-S21-P3     ...          blank  A-23-S21-P3   \n",
       "3  A-13-S31-P4    blank  A-13-S21-P4     ...          blank  A-23-S21-P4   \n",
       "4  A-13-S31-P5    blank  A-13-S21-P5     ...          blank  A-23-S21-P5   \n",
       "\n",
       "  goPingo73      A-23-S3 goPingo75      A-23-S4 goPingo77      A-23-S5  \\\n",
       "0     blank  A-23-S31-P1     blank  A-23-S41-P1     blank  A-23-S51-P1   \n",
       "1     blank  A-23-S31-P2     blank  A-23-S41-P2     blank  A-23-S51-P2   \n",
       "2     blank  A-23-S31-P3     blank  A-23-S41-P3     blank  A-23-S51-P3   \n",
       "3     blank  A-23-S31-P4     blank  A-23-S41-P4     blank  A-23-S51-P4   \n",
       "4     blank  A-23-S31-P5     blank  A-23-S41-P5     blank  A-23-S51-P5   \n",
       "\n",
       "  goPingo79      A-23-S6  \n",
       "0     blank  A-23-S61-P1  \n",
       "1     blank  A-23-S61-P2  \n",
       "2     blank  A-23-S61-P3  \n",
       "3     blank  A-23-S61-P4  \n",
       "4     blank  A-23-S61-P5  \n",
       "\n",
       "[5 rows x 81 columns]"
      ]
     },
     "execution_count": 156,
     "metadata": {},
     "output_type": "execute_result"
    }
   ],
   "source": [
    "dfa.head()"
   ]
  },
  {
   "cell_type": "code",
   "execution_count": 148,
   "metadata": {},
   "outputs": [],
   "source": [
    "dictionary= {'A': dfa, 'B': dfb, 'C':dfc, 'D':dfd}"
   ]
  },
  {
   "cell_type": "code",
   "execution_count": 149,
   "metadata": {},
   "outputs": [
    {
     "data": {
      "text/plain": [
       "array(['A-13-S61-P1', 'A-13-S61-P2', 'A-13-S61-P3', 'A-13-S61-P4',\n",
       "       'A-13-S61-P5', 'A-13-S61-P6', 'A-13-S61-P7', 'A-13-S61-P8',\n",
       "       'A-13-S61-P9', 'A-13-S61-P10', 'A-13-S61-P11', 'A-13-S61-P12',\n",
       "       'A-13-S61-P13', 'A-13-S61-P14', 'A-13-S61-P15', 'A-13-S61-P16',\n",
       "       'A-13-S61-P17', 'A-13-S61-P18', 'A-13-S61-P19', 'A-13-S61-P20',\n",
       "       'A-13-S62-P21', 'A-13-S62-P22', 'A-13-S62-P23', 'A-13-S62-P24',\n",
       "       'A-13-S62-P25', 'A-13-S62-P26', 'A-13-S62-P27', 'A-13-S62-P28',\n",
       "       'A-13-S62-P29', 'A-13-S62-P30', 'blank', 'A-13-S62-P31',\n",
       "       'A-13-S62-P32', 'A-13-S62-P33', 'A-13-S62-P34', 'A-13-S62-P35',\n",
       "       'A-13-S62-P36', 'A-13-S62-P37', 'A-13-S62-P38', 'A-13-S62-P39',\n",
       "       'A-13-S62-P40', 'A-13-S63-P41', 'A-13-S63-P42', 'A-13-S63-P43',\n",
       "       'A-13-S63-P44', 'A-13-S63-P45', 'A-13-S63-P46', 'A-13-S63-P47',\n",
       "       'A-13-S63-P48', 'A-13-S63-P49', 'A-13-S63-P50', 'A-13-S63-P51',\n",
       "       'A-13-S63-P52', 'A-13-S63-P53', 'A-13-S63-P54', 'A-13-S63-P55',\n",
       "       'A-13-S63-P56', 'A-13-S63-P57', 'A-13-S63-P58', 'A-13-S63-P59',\n",
       "       'A-13-S63-P60'], dtype=object)"
      ]
     },
     "execution_count": 149,
     "metadata": {},
     "output_type": "execute_result"
    }
   ],
   "source": [
    "dictionary['A']['A-13-S6'].values"
   ]
  },
  {
   "cell_type": "code",
   "execution_count": 150,
   "metadata": {},
   "outputs": [],
   "source": [
    "test= ['2A-2A-11-S63-P47', '2A-6C-23-S32-P35']"
   ]
  },
  {
   "cell_type": "markdown",
   "metadata": {},
   "source": [
    "Sorting Algorithm. We will also need to sort data into proper layout. This should be done externally, as filtering within function will increase execution time."
   ]
  },
  {
   "cell_type": "code",
   "execution_count": 151,
   "metadata": {},
   "outputs": [],
   "source": [
    "def loc(x,dataframe):\n",
    "    for j in dataframe:\n",
    "        if j in x:\n",
    "            return j "
   ]
  },
  {
   "cell_type": "code",
   "execution_count": 152,
   "metadata": {},
   "outputs": [],
   "source": [
    "def map(z):\n",
    "    da=dfa\n",
    "    db=dfb\n",
    "    dc=dfc\n",
    "    dd=dfd\n",
    "    dic={'A':da, 'B':db, 'C':dc, 'D':dd}\n",
    "    for i in z:\n",
    "        inverter= i[4]\n",
    "        in_map= dic[inverter]\n",
    "        column= loc(i,in_map)\n",
    "        in_map[column].values[in_map[column].tolist().index(i[4:])]='XX'+i[4:]\n",
    "    return [da,db,dc,dd]"
   ]
  },
  {
   "cell_type": "code",
   "execution_count": 153,
   "metadata": {},
   "outputs": [],
   "source": [
    "s= map(test)"
   ]
  },
  {
   "cell_type": "code",
   "execution_count": 154,
   "metadata": {},
   "outputs": [
    {
     "data": {
      "text/plain": [
       "array(['A-11-S61-P1', 'A-11-S61-P2', 'A-11-S61-P3', 'A-11-S61-P4',\n",
       "       'A-11-S61-P5', 'A-11-S61-P6', 'A-11-S61-P7', 'A-11-S61-P8',\n",
       "       'A-11-S61-P9', 'A-11-S61-P10', 'A-11-S61-P11', 'A-11-S61-P12',\n",
       "       'A-11-S61-P13', 'A-11-S61-P14', 'A-11-S61-P15', 'A-11-S61-P16',\n",
       "       'A-11-S61-P17', 'A-11-S61-P18', 'A-11-S61-P19', 'A-11-S61-P20',\n",
       "       'A-11-S62-P21', 'A-11-S62-P22', 'A-11-S62-P23', 'A-11-S62-P24',\n",
       "       'A-11-S62-P25', 'A-11-S62-P26', 'A-11-S62-P27', 'A-11-S62-P28',\n",
       "       'A-11-S62-P29', 'A-11-S62-P30', 'blank', 'A-11-S62-P31',\n",
       "       'A-11-S62-P32', 'A-11-S62-P33', 'A-11-S62-P34', 'A-11-S62-P35',\n",
       "       'A-11-S62-P36', 'A-11-S62-P37', 'A-11-S62-P38', 'A-11-S62-P39',\n",
       "       'A-11-S62-P40', 'A-11-S63-P41', 'A-11-S63-P42', 'A-11-S63-P43',\n",
       "       'A-11-S63-P44', 'A-11-S63-P45', 'A-11-S63-P46', 'XXA-11-S63-P47',\n",
       "       'A-11-S63-P48', 'A-11-S63-P49', 'A-11-S63-P50', 'A-11-S63-P51',\n",
       "       'A-11-S63-P52', 'A-11-S63-P53', 'A-11-S63-P54', 'A-11-S63-P55',\n",
       "       'A-11-S63-P56', 'A-11-S63-P57', 'A-11-S63-P58', 'A-11-S63-P59',\n",
       "       'A-11-S63-P60'], dtype=object)"
      ]
     },
     "execution_count": 154,
     "metadata": {},
     "output_type": "execute_result"
    }
   ],
   "source": [
    "s[0]['A-11-S6'].values"
   ]
  },
  {
   "cell_type": "code",
   "execution_count": 155,
   "metadata": {},
   "outputs": [
    {
     "data": {
      "text/plain": [
       "array(['C-23-S31-P1', 'C-23-S31-P2', 'C-23-S31-P3', 'C-23-S31-P4',\n",
       "       'C-23-S31-P5', 'C-23-S31-P6', 'C-23-S31-P7', 'C-23-S31-P8',\n",
       "       'C-23-S31-P9', 'C-23-S31-P10', 'C-23-S31-P11', 'C-23-S31-P12',\n",
       "       'C-23-S31-P13', 'C-23-S31-P14', 'C-23-S31-P15', 'C-23-S31-P16',\n",
       "       'C-23-S31-P17', 'C-23-S31-P18', 'C-23-S31-P19', 'C-23-S31-P20',\n",
       "       'C-23-S32-P21', 'C-23-S32-P22', 'C-23-S32-P23', 'C-23-S32-P24',\n",
       "       'C-23-S32-P25', 'C-23-S32-P26', 'C-23-S32-P27', 'C-23-S32-P28',\n",
       "       'C-23-S32-P29', 'C-23-S32-P30', 'blank', 'C-23-S32-P31',\n",
       "       'C-23-S32-P32', 'C-23-S32-P33', 'C-23-S32-P34', 'XXC-23-S32-P35',\n",
       "       'C-23-S32-P36', 'C-23-S32-P37', 'C-23-S32-P38', 'C-23-S32-P39',\n",
       "       'C-23-S32-P40', 'C-23-S33-P41', 'C-23-S33-P42', 'C-23-S33-P43',\n",
       "       'C-23-S33-P44', 'C-23-S33-P45', 'C-23-S33-P46', 'C-23-S33-P47',\n",
       "       'C-23-S33-P48', 'C-23-S33-P49', 'C-23-S33-P50', 'C-23-S33-P51',\n",
       "       'C-23-S33-P52', 'C-23-S33-P53', 'C-23-S33-P54', 'C-23-S33-P55',\n",
       "       'C-23-S33-P56', 'C-23-S33-P57', 'C-23-S33-P58', 'C-23-S33-P59',\n",
       "       'C-23-S33-P60'], dtype=object)"
      ]
     },
     "execution_count": 155,
     "metadata": {},
     "output_type": "execute_result"
    }
   ],
   "source": [
    "s[2]['C-23-S3'].values"
   ]
  }
 ],
 "metadata": {
  "kernelspec": {
   "display_name": "Python 3",
   "language": "python",
   "name": "python3"
  },
  "language_info": {
   "codemirror_mode": {
    "name": "ipython",
    "version": 3
   },
   "file_extension": ".py",
   "mimetype": "text/x-python",
   "name": "python",
   "nbconvert_exporter": "python",
   "pygments_lexer": "ipython3",
   "version": "3.6.5"
  }
 },
 "nbformat": 4,
 "nbformat_minor": 2
}
